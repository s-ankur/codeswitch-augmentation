{
  "cells": [
    {
      "cell_type": "markdown",
      "metadata": {
        "colab_type": "toc",
        "id": "BKOA3DbEfHaq"
      },
      "source": [
        ">[Installation and Setup](#scrollTo=exY3is1ILr_F)\n",
        "\n",
        ">[Data Loading and Validation](#scrollTo=P7mSZGr-Ln8U)\n",
        "\n",
        ">[Statistics](#scrollTo=D1VzHuOKUkYU)\n",
        "\n",
        ">[Create Merged Datasets](#scrollTo=5-QvhUDFdAxu)\n",
        "\n",
        ">[Alignment](#scrollTo=2Hw9I84MgN7g)\n",
        "\n",
        ">[Experiments](#scrollTo=SIs5sRIzc8Z3)\n",
        "\n",
        ">>[CK](#scrollTo=tPLqugwWdKMk)\n",
        "\n",
        ">>[CK Character Augmentation](#scrollTo=vb51VkkJeHzq)\n",
        "\n",
        ">>[CK_E](#scrollTo=mDn8U6aUdOlT)\n",
        "\n",
        ">>[CK_K](#scrollTo=L6ecz2UVdbki)\n",
        "\n",
        ">>[CK_E_K](#scrollTo=Qp74868Ac6sj)\n",
        "\n",
        ">>[CK Word Alignment Augmentation](#scrollTo=RXZO8ymieo_J)\n",
        "\n",
        ">>[CK Translated Test Test](#scrollTo=BpI2vxmiZONa)\n",
        "\n"
      ]
    },
    {
      "cell_type": "markdown",
      "metadata": {
        "id": "exY3is1ILr_F"
      },
      "source": [
        "#Installation and Setup"
      ]
    },
    {
      "cell_type": "code",
      "execution_count": 12,
      "metadata": {
        "colab": {
          "base_uri": "https://localhost:8080/"
        },
        "id": "t7oOSwi5nStW",
        "outputId": "44c9754d-74c8-4afe-fcfd-8e50bec5f3a9"
      },
      "outputs": [
        {
          "output_type": "stream",
          "name": "stdout",
          "text": [
            "Mounted at /content/drive\n",
            "/content/drive/.shortcut-targets-by-id/1pyPDXXgFYu_gD-IDMCmfmchXQboVGhNs/CS769\n"
          ]
        }
      ],
      "source": [
        "from google.colab import drive\n",
        "drive.mount('/content/drive')\n",
        "%cd /content/drive/MyDrive/CS769"
      ]
    },
    {
      "cell_type": "code",
      "execution_count": null,
      "metadata": {
        "id": "5K-Qea2jBQD9"
      },
      "outputs": [],
      "source": [
        "%%capture\n",
        "!pip install emoji transformers"
      ]
    },
    {
      "cell_type": "markdown",
      "metadata": {
        "id": "P7mSZGr-Ln8U"
      },
      "source": [
        "#Data Loading and Validation"
      ]
    },
    {
      "cell_type": "code",
      "execution_count": 7,
      "metadata": {
        "id": "AGCBtR5WNl3c"
      },
      "outputs": [],
      "source": [
        "import pandas as pd\n",
        "df_ck_train =  pd.read_csv(\"original/ck_train.csv\", encoding='utf-8')\n",
        "df_ck_test =  pd.read_csv(\"original/ck_test.csv\", encoding='utf-8')\n",
        "df_ck_dev =  pd.read_csv(\"original/ck_dev.csv\", encoding='utf-8')\n",
        "df_k_train = pd.read_csv(\"translated/k_train.csv\", encoding='utf-8')\n",
        "df_e_train = pd.read_csv(\"translated/e_train.csv\", encoding='utf-8')"
      ]
    },
    {
      "cell_type": "code",
      "execution_count": null,
      "metadata": {
        "id": "jXKWDLWt9ttM"
      },
      "outputs": [],
      "source": [
        "def validate(df):\n",
        "  assert set(df['label'])=={\"Offensive\",\"Not_offensive\"}\n",
        "  assert df.isna().any().any()==False"
      ]
    },
    {
      "cell_type": "code",
      "execution_count": null,
      "metadata": {
        "colab": {
          "base_uri": "https://localhost:8080/"
        },
        "id": "9kWyj7_dGp8K",
        "outputId": "b6423d26-6c67-4564-a9f4-ee6b3bff6efb"
      },
      "outputs": [
        {
          "output_type": "stream",
          "name": "stdout",
          "text": [
            "4695\n"
          ]
        }
      ],
      "source": [
        "validate(df_ck_train)\n",
        "validate(df_ck_test)\n",
        "validate(df_ck_dev)\n",
        "validate(df_k_train)\n",
        "validate(df_e_train)\n",
        "assert len(df_k_train)==len(df_e_train)==len(df_ck_train)\n",
        "print(len(df_k_train))"
      ]
    },
    {
      "cell_type": "markdown",
      "metadata": {
        "id": "D1VzHuOKUkYU"
      },
      "source": [
        "#Statistics"
      ]
    },
    {
      "cell_type": "code",
      "execution_count": null,
      "metadata": {
        "id": "a4vFw8g79nGs"
      },
      "outputs": [],
      "source": [
        "def balance_stats(df):\n",
        "  dupes=df['text'].value_counts()\n",
        "  labels=df['label'].value_counts()\n",
        "  return pd.Series(dict(\n",
        "      n_duplicates=dupes[dupes>1].sum()-len(dupes[dupes>1]),\n",
        "      offensive=labels['Offensive'],\n",
        "      not_offensive=labels['Not_offensive'],\n",
        "      total=labels.sum()\n",
        "  ))"
      ]
    },
    {
      "cell_type": "code",
      "execution_count": null,
      "metadata": {
        "colab": {
          "base_uri": "https://localhost:8080/"
        },
        "id": "H1PFaCopI6JI",
        "outputId": "c61e6160-5567-46eb-ed10-b5e33c7fdd0a"
      },
      "outputs": [
        {
          "output_type": "stream",
          "name": "stdout",
          "text": [
            "          n_duplicates  offensive  not_offensive  total\n",
            "ck_train           174       1151           3544   4695\n",
            "ck_test              5        166            427    593\n",
            "ck_dev              14        160            426    586\n",
            "         n_duplicates  offensive  not_offensive  total\n",
            "k_train           216       1151           3544   4695\n",
            "e_train           209       1151           3544   4695\n"
          ]
        }
      ],
      "source": [
        "stats_original=pd.DataFrame(dict(\n",
        "    ck_train=balance_stats(df_ck_train),\n",
        "    ck_test=balance_stats(df_ck_test),\n",
        "    ck_dev=balance_stats(df_ck_dev),\n",
        ")).transpose()\n",
        "stats_translated=pd.DataFrame(dict(\n",
        "    k_train=balance_stats(df_k_train),\n",
        "    e_train=balance_stats(df_e_train),\n",
        ")).transpose()\n",
        "print(stats_original)\n",
        "stats_original.to_csv('stats/stats_original.csv')\n",
        "print(stats_translated)\n",
        "stats_translated.to_csv('stats/stats_translated.csv')"
      ]
    },
    {
      "cell_type": "code",
      "execution_count": null,
      "metadata": {
        "id": "faEX03jWLiYe"
      },
      "outputs": [],
      "source": [
        "import string\n",
        "import unicodedata\n",
        "  \n",
        "def dominance_stats(df):\n",
        "\n",
        "  unique_words = set()\n",
        "  for sentence in df['text']:\n",
        "      words = sentence.split()\n",
        "      unique_words.update(words)\n",
        "  unique_words = set(word for word in unique_words if not (all(char in string.punctuation for char in word) or word.isdigit()))\n",
        "  \n",
        "  def is_english_word(word):\n",
        "      try:\n",
        "        for char in word:\n",
        "            if char.isalpha() or char.isspace():\n",
        "                continue\n",
        "            if 'Emoji' in unicodedata.name(char):\n",
        "                continue\n",
        "            if char in string.punctuation:\n",
        "                continue\n",
        "            return False\n",
        "      except ValueError:\n",
        "        return False\n",
        "      return True\n",
        "  english_words = set(filter(is_english_word, unique_words))\n",
        "  return pd.Series(dict(\n",
        "      e_dominance=len(english_words)/len(unique_words),\n",
        "  ))"
      ]
    },
    {
      "cell_type": "markdown",
      "metadata": {
        "id": "ZdxYt7ZfzrBT"
      },
      "source": [
        "dominance_e  + dominance_k = 1"
      ]
    },
    {
      "cell_type": "code",
      "execution_count": null,
      "metadata": {
        "colab": {
          "base_uri": "https://localhost:8080/"
        },
        "id": "DcORFiVH4JgK",
        "outputId": "edaec9d2-3862-48d4-d88b-b24f8669ccaa"
      },
      "outputs": [
        {
          "name": "stdout",
          "output_type": "stream",
          "text": [
            "          e_dominance\n",
            "ck_train     0.628155\n",
            "ck_test      0.621958\n",
            "ck_dev       0.671467\n",
            "         e_dominance\n",
            "k_train     0.256410\n",
            "e_train     0.974296\n"
          ]
        }
      ],
      "source": [
        "dominance_stats_original=pd.DataFrame(dict(\n",
        "    ck_train=dominance_stats(df_ck_train),\n",
        "    ck_test=dominance_stats(df_ck_test),\n",
        "    ck_dev=dominance_stats(df_ck_dev),\n",
        ")).transpose()\n",
        "dominance_stats_translated=pd.DataFrame(dict(\n",
        "    k_train=dominance_stats(df_k_train),\n",
        "    e_train=dominance_stats(df_e_train),\n",
        ")).transpose()\n",
        "print(dominance_stats_original)\n",
        "dominance_stats_original.to_csv('stats/dominance_stats_original.csv')\n",
        "print(dominance_stats_translated)\n",
        "dominance_stats_translated.to_csv('stats/dominance_stats_translated.csv')"
      ]
    },
    {
      "cell_type": "markdown",
      "metadata": {
        "id": "5-QvhUDFdAxu"
      },
      "source": [
        "#Create Merged Datasets"
      ]
    },
    {
      "cell_type": "code",
      "execution_count": null,
      "metadata": {
        "id": "UtlqDjGMOLlG"
      },
      "outputs": [],
      "source": [
        "df_ck_e_k_train=pd.concat([df_ck_train,df_k_train,df_e_train])\n",
        "df_ck_k_train=pd.concat([df_ck_train,df_k_train])\n",
        "df_ck_e_train=pd.concat([df_ck_train,df_e_train])"
      ]
    },
    {
      "cell_type": "code",
      "execution_count": null,
      "metadata": {
        "id": "VB5uHoKUOqpA"
      },
      "outputs": [],
      "source": [
        "df_ck_e_k_train.to_csv('translated/ck_e_k_train.csv', index=False)\n",
        "df_ck_k_train.to_csv('translated/ck_k_train.csv', index=False)\n",
        "df_ck_e_train.to_csv('translated/ck_e_train.csv', index=False)"
      ]
    },
    {
      "cell_type": "markdown",
      "metadata": {
        "id": "2Hw9I84MgN7g"
      },
      "source": [
        "#Alignment"
      ]
    },
    {
      "cell_type": "code",
      "execution_count": null,
      "metadata": {
        "id": "FD6AXjaegRr3"
      },
      "outputs": [],
      "source": [
        "%%capture\n",
        "# Install fast_align using apt-get\n",
        "! sudo apt-get install -y cmake\n",
        "! rm -rf fast_align\n",
        "! git clone https://github.com/clab/fast_align.git\n",
        "! cd fast_align && mkdir build && cd build && cmake .. && make\n",
        "from nltk.tokenize import word_tokenize\n",
        "import nltk\n",
        "nltk.download('punkt')"
      ]
    },
    {
      "cell_type": "code",
      "execution_count": null,
      "metadata": {
        "id": "iD6LHEfPg1mw"
      },
      "outputs": [],
      "source": [
        "aligned_text_k2e = []\n",
        "aligned_text_e2k = []\n",
        "for k_sentence, e_sentence in zip(df_k_train[\"text\"],df_e_train[\"text\"]):\n",
        "  k_sentence=' '.join(word_tokenize(k_sentence))\n",
        "  e_sentence=' '.join(word_tokenize(e_sentence))\n",
        "  aligned_text_k2e.append(k_sentence + ' ||| ' + e_sentence)\n",
        "  aligned_text_e2k.append(e_sentence + ' ||| ' + k_sentence)\n",
        "\n",
        "with open('aligned/aligned_text_k2e.txt', 'w') as f:\n",
        "    f.write('\\n'.join(aligned_text_k2e))\n",
        "with open('aligned/aligned_text_e2k.txt', 'w') as f:\n",
        "    f.write('\\n'.join(aligned_text_e2k))"
      ]
    },
    {
      "cell_type": "code",
      "execution_count": null,
      "metadata": {
        "id": "br5ce_bA_DoB"
      },
      "outputs": [],
      "source": [
        "%%capture\n",
        "!fast_align/build/fast_align -i aligned/aligned_text_k2e.txt -d -o -v > aligned/k2e_align.txt\n",
        "!fast_align/build/fast_align -i aligned/aligned_text_e2k.txt -d -o -v > aligned/e2k_align.txt"
      ]
    },
    {
      "cell_type": "code",
      "execution_count": null,
      "metadata": {
        "id": "WdK2lKXdhzN1"
      },
      "outputs": [],
      "source": [
        "def align_dict(direction):\n",
        "  with open(f'aligned/{direction}_align.txt', 'r', encoding='utf-8') as f:\n",
        "    alignments = [line.strip().split() for line in f]\n",
        "  dictionary = list()\n",
        "  for sentence in alignments:\n",
        "    temp=dict()\n",
        "    for pair in sentence:\n",
        "      i, j = pair.split(\"-\")\n",
        "      i, j = int(i), int(j)\n",
        "      temp[i]=j\n",
        "    dictionary.append(temp)  \n",
        "  return dictionary"
      ]
    },
    {
      "cell_type": "code",
      "execution_count": null,
      "metadata": {
        "id": "dgPQmqdGiCWQ"
      },
      "outputs": [],
      "source": [
        "dictionary_k2e=align_dict('k2e')\n",
        "dictionary_e2k=align_dict('e2k')"
      ]
    },
    {
      "cell_type": "code",
      "execution_count": null,
      "metadata": {
        "id": "Mlq9PvYgCjuA"
      },
      "outputs": [],
      "source": [
        "import random\n",
        "dominance_e=0.628155\n",
        "def augment_aligned(df_l1_train,df_l2_train,dictionary,dominance):\n",
        "  text=  [] \n",
        "  labels = []\n",
        "  for l1_sentence,l2_sentence,label,dict_line  in zip(df_l1_train[\"text\"],df_l2_train[\"text\"],df_l1_train[\"label\"],dictionary):\n",
        "    sent=[]\n",
        "    l1_sentence=word_tokenize(l1_sentence)\n",
        "    l2_sentence=word_tokenize(l2_sentence)\n",
        "    for index,word in enumerate(l1_sentence):\n",
        "      if index in dict_line and random.random()<dominance:\n",
        "        sent.append(l2_sentence[dict_line[index]])\n",
        "      else:\n",
        "        sent.append(word)\n",
        "    labels.append(label)\n",
        "    text.append(' '.join(sent))\n",
        "  return pd.DataFrame(dict(text=text,label=labels))"
      ]
    },
    {
      "cell_type": "code",
      "execution_count": null,
      "metadata": {
        "id": "13pu4CHkc263"
      },
      "outputs": [],
      "source": [
        "df_ckwk2e_train=[]\n",
        "df_ckwe2k_train=[]\n",
        "for i in range(3):\n",
        "  df_ckwk2e_train.append(augment_aligned(df_k_train,df_e_train, dictionary_k2e, dominance_e))\n",
        "  df_ckwe2k_train.append(augment_aligned(df_e_train,df_k_train, dictionary_e2k, 1-dominance_e))\n",
        "df_ckwk2e_train=pd.concat(df_ckwk2e_train)\n",
        "df_ckwe2k_train=pd.concat(df_ckwe2k_train)\n",
        "df_ckwk2e_train = df_ckwk2e_train.append(df_ck_train)\n",
        "df_ckwe2k_train = df_ckwe2k_train.append(df_ck_train)\n",
        "print(len(df_ckwk2e_train), len(df_ckwe2k_train))"
      ]
    },
    {
      "cell_type": "code",
      "source": [
        "print(df_ck_train.head())"
      ],
      "metadata": {
        "colab": {
          "base_uri": "https://localhost:8080/"
        },
        "id": "AUyJHT4GwHAv",
        "outputId": "39c9ed6a-3051-49ca-e59c-0912942cae82"
      },
      "execution_count": null,
      "outputs": [
        {
          "output_type": "stream",
          "name": "stdout",
          "text": [
            "                                                text          label\n",
            "0  Tik tok alli jagala madtidralla adra baggenu o...  Not_offensive\n",
            "1                          Movie rerelease madi plss  Not_offensive\n",
            "2  Amazon prime alli bittidira....yella manele no...  Not_offensive\n",
            "3  Guru sure news nanu tik tok dawn lod madeda ya...  Not_offensive\n",
            "4  ಸುದೀಪ್ ಸರ್ ಅಂಡ್ ದರ್ಶನ್ ಸರ್ ಅವರಿಗೆ ಇರೋ ಫ್ಯಾನ್ಸ್...  Not_offensive\n"
          ]
        }
      ]
    },
    {
      "cell_type": "code",
      "source": [
        "print(df_ckwk2e_train.head())"
      ],
      "metadata": {
        "colab": {
          "base_uri": "https://localhost:8080/"
        },
        "id": "vyy_tPDrwTOO",
        "outputId": "099e516f-4892-4b53-bfd1-92d78de6eb69"
      },
      "execution_count": null,
      "outputs": [
        {
          "output_type": "stream",
          "name": "stdout",
          "text": [
            "                                                text          label\n",
            "0  ತಿಕ್ Tok ಅಲ್ಲಿ ಜಗಳ ಮಾಡ್ತಿದ್ರಲ್ಲ ಅದ್ರ ಬಗ್ಗೆನೂ ಒ...  Not_offensive\n",
            "1                         Movie ರೇರೆಳೆಯಾಸೆ ಮಾಡಿ plss  Not_offensive\n",
            "2  Amazon ಪ್ರೈಮ್ ಅಲ್ಲಿ Prime .... is there ನೋಡ್ತಾ...  Not_offensive\n",
            "3  ಗುರು Nivs ನಿವ್ಸ್ ನಾನು ತಿಕ್ Tok ಡಾನ್ನ ಲೋಡ್ ಮಾಡಿ...  Not_offensive\n",
            "4  Sudeep sir and ದರ್ಶನ್ ಸರ್ ಅವರಿಗೆ ಇರೋ ಫ್ಯಾನ್ಸ್ ...  Not_offensive\n"
          ]
        }
      ]
    },
    {
      "cell_type": "code",
      "source": [
        "print(df_ckwe2k_train.head())"
      ],
      "metadata": {
        "colab": {
          "base_uri": "https://localhost:8080/"
        },
        "id": "pHu_GafKwTst",
        "outputId": "1d7c9991-bc6d-4f85-fd83-cb94f734c5ad"
      },
      "execution_count": null,
      "outputs": [
        {
          "output_type": "stream",
          "name": "stdout",
          "text": [
            "                                                text          label\n",
            "0  Did you make ಒಂದು ವಿಡಿಯೋ about Tik Tok and bec...  Not_offensive\n",
            "1                         Movie rerelease madi ಪ್ಲಸ್  Not_offensive\n",
            "2                        Amazon .... is ನೋಡ್ತಾರೆ ...  Not_offensive\n",
            "3  ಗುರು Sure Nivs When I ಡಾನ್ನ Tik Tok ಮಾಡಿದ ಯಾವಾ...  Not_offensive\n",
            "4  ಸುದೀಪ್ ಸರ್ and ದರ್ಶನ್ ಸರ್ have Ero ಫ್ಯಾನ್ಸ್ fo...  Not_offensive\n"
          ]
        }
      ]
    },
    {
      "cell_type": "code",
      "source": [
        "print(df_k_train.head())"
      ],
      "metadata": {
        "colab": {
          "base_uri": "https://localhost:8080/"
        },
        "id": "01JFFL3C1FEu",
        "outputId": "038ef787-7d2b-4a9a-8149-25722c1ff57a"
      },
      "execution_count": null,
      "outputs": [
        {
          "output_type": "stream",
          "name": "stdout",
          "text": [
            "                                                text          label\n",
            "0  ತಿಕ್ ಟಾಕ್ ಅಲ್ಲಿ ಜಗಳ ಮಾಡ್ತಿದ್ರಲ್ಲ ಅದ್ರ ಬಗ್ಗೆನೂ ...  Not_offensive\n",
            "1                         ಮೂವಿ ರೇರೆಳೆಯಾಸೆ ಮಾಡಿ ಪ್ಲಸ್  Not_offensive\n",
            "2  ಅಮೆಜಾನ್ ಪ್ರೈಮ್ ಅಲ್ಲಿ ಬಿತ್ತಿದಿರಾ....ಎಲ್ಲ ಮನೇಲೆ ...  Not_offensive\n",
            "3  ಗುರು ಸುರೆ ನಿವ್ಸ್ ನಾನು ತಿಕ್ ತೊಕ್ ಡಾನ್ನ ಲೋಡ್ ಮಾಡ...  Not_offensive\n",
            "4  ಸುದೀಪ್ ಸರ್ ಅಂಡ್ ದರ್ಶನ್ ಸರ್ ಅವರಿಗೆ ಇರೋ ಫ್ಯಾನ್ಸ್...  Not_offensive\n"
          ]
        }
      ]
    },
    {
      "cell_type": "code",
      "source": [
        "print(df_e_train.head())"
      ],
      "metadata": {
        "colab": {
          "base_uri": "https://localhost:8080/"
        },
        "id": "5wQlZrKVwblO",
        "outputId": "93b260f6-f916-4a84-aa5e-79fcc5575ce7"
      },
      "execution_count": null,
      "outputs": [
        {
          "output_type": "stream",
          "name": "stdout",
          "text": [
            "                                                text          label\n",
            "0  Did you make a video about Tik Tok and become ...  Not_offensive\n",
            "1                          Movie rerelease madi plss  Not_offensive\n",
            "2                           Amazon Prime is there...  Not_offensive\n",
            "3  Guru Sure Nivs When I Loaded Tik Tok Don When ...  Not_offensive\n",
            "4  Sudeep sir and Darshan sir have Ero fans follo...  Not_offensive\n"
          ]
        }
      ]
    },
    {
      "cell_type": "code",
      "execution_count": null,
      "metadata": {
        "id": "5Dx0-jpIdTjT"
      },
      "outputs": [],
      "source": [
        "df_ckwk2e_train.to_csv('augmented/ckwk2e_train.csv', index=False)\n",
        "df_ckwe2k_train.to_csv('augmented/ckwe2e_train.csv', index=False)"
      ]
    },
    {
      "cell_type": "code",
      "execution_count": null,
      "metadata": {
        "colab": {
          "base_uri": "https://localhost:8080/"
        },
        "id": "0SV91dxjbSGp",
        "outputId": "575e29c3-1393-4a1a-8e60-552145584dc1"
      },
      "outputs": [
        {
          "name": "stdout",
          "output_type": "stream",
          "text": [
            "e_dominance    0.488936\n",
            "dtype: float64\n",
            "e_dominance    0.581811\n",
            "dtype: float64\n"
          ]
        }
      ],
      "source": [
        "print(dominance_stats(df_ckwk2e_train))\n",
        "print(dominance_stats(df_ckwe2k_train))"
      ]
    },
    {
      "cell_type": "code",
      "execution_count": null,
      "metadata": {
        "id": "dKDzQwOBYkUs"
      },
      "outputs": [],
      "source": [
        "df_ckwk2e_train = []\n",
        "e_dominance=0.628155\n",
        "for k_sentence,e_sentence,label, e2k in zip(df_k_train[\"text\"],df_e_train[\"text\"],df_k_train[\"label\"],dictionary_e2k):\n",
        "  sent=[]\n",
        "  k_sentence=word_tokenize(k_sentence)\n",
        "  e_sentence=word_tokenize(e_sentence)\n",
        "  for index,word in enumerate(e_sentence):\n",
        "    if random.random()>e_dominance:\n",
        "      sent.append(e_sentence[e2k[index]])\n",
        "    else:\n",
        "      sent.append(word)\n",
        "  df_ckwk2e_train.append(' '.join(sent))\n",
        "df_ckwk2e_train=pd.DataFrame(df_ckwk2e_train)"
      ]
    },
    {
      "cell_type": "markdown",
      "metadata": {
        "id": "-LnjcYRlw5B6"
      },
      "source": [
        "\n",
        "\n",
        "Plan for CKalignK2E\n",
        "\n",
        "```\n",
        "Start from a sentence from K-> (k, k_i)\n",
        "for each word j in k:\n",
        "  if roll dice with p (dominance_e):\n",
        "    replace word with e[dictionaryK2E[k_i][j]]\n",
        "\n",
        "dominance_e(CKalign)==dominance_e(CK)\n",
        "```\n",
        "\n",
        " CKalignE2K\n",
        "\n"
      ]
    },
    {
      "cell_type": "markdown",
      "metadata": {
        "id": "3RhUoQ3ax0OF"
      },
      "source": [
        "CKalignCK2CK\n",
        "\n",
        "```\n",
        "Start from a sentence in CK -> (ck, ck_i)\n",
        "for each word j in ck:\n",
        "  if word is english:\n",
        "    if roll dice p=dominence_k:\n",
        "      replace word with k[dictionaryE2K[ck_i][j]]\n",
        "  same fr k\n",
        "\n",
        "dominance_e(CKalign)==1-dominance_e(CK)\n",
        "```\n",
        "\n"
      ]
    },
    {
      "cell_type": "markdown",
      "metadata": {
        "id": "SIs5sRIzc8Z3"
      },
      "source": [
        "#Experiments\n"
      ]
    },
    {
      "cell_type": "code",
      "execution_count": 3,
      "metadata": {
        "id": "j-U7N1aXdYjL"
      },
      "outputs": [],
      "source": [
        "from sklearn.metrics import *\n",
        "def show_metrics(folder_name):\n",
        "      df=pd.read_csv(f'models/{folder_name}/test_pred.csv')\n",
        "      y_true, y_pred=list(df['label']), list(df['pred'])\n",
        "      accuracy = accuracy_score(y_true, y_pred)\n",
        "      mf1Score = f1_score(y_true, y_pred, average='macro')\n",
        "      f1Score  = f1_score(y_true, y_pred)\n",
        "      fpr, tpr, _ = roc_curve(y_true, y_pred)\n",
        "      area_under_c = auc(fpr, tpr)\n",
        "      recallScore = recall_score(y_true, y_pred)\n",
        "      precisionScore = precision_score(y_true, y_pred)\n",
        "      return {\"accuracy\": accuracy, 'mF1Score': mf1Score, 'f1Score': f1Score, 'auc': area_under_c,'precision': precisionScore, 'recall': recallScore}"
      ]
    },
    {
      "cell_type": "markdown",
      "metadata": {
        "id": "tPLqugwWdKMk"
      },
      "source": [
        "## CK"
      ]
    },
    {
      "cell_type": "code",
      "execution_count": null,
      "metadata": {
        "id": "XOpuENgpdJtU"
      },
      "outputs": [],
      "source": [
        "!python train_generic.py original/ck_train.csv original/ck_dev.csv original/ck_test.csv  models/ck/"
      ]
    },
    {
      "cell_type": "code",
      "execution_count": 8,
      "metadata": {
        "id": "PfFOD3nr1Dqp",
        "colab": {
          "base_uri": "https://localhost:8080/"
        },
        "outputId": "b74b974c-9f5c-46b3-d164-543651bca21a"
      },
      "outputs": [
        {
          "output_type": "execute_result",
          "data": {
            "text/plain": [
              "{'accuracy': 0.8145025295109612,\n",
              " 'mF1Score': 0.7636799698576935,\n",
              " 'f1Score': 0.6540880503144654,\n",
              " 'auc': 0.7570469230552186,\n",
              " 'precision': 0.6842105263157895,\n",
              " 'recall': 0.6265060240963856}"
            ]
          },
          "metadata": {},
          "execution_count": 8
        }
      ],
      "source": [
        "show_metrics('ck')"
      ]
    },
    {
      "cell_type": "markdown",
      "metadata": {
        "id": "vb51VkkJeHzq"
      },
      "source": [
        "## CK Character Augmentation"
      ]
    },
    {
      "cell_type": "code",
      "execution_count": null,
      "metadata": {
        "id": "2KeovJzqdeoy"
      },
      "outputs": [],
      "source": [
        "!python train_generic.py augmented/cka_train.csv original/ck_dev.csv original/ck_test.csv  models/cka/"
      ]
    },
    {
      "cell_type": "code",
      "execution_count": 9,
      "metadata": {
        "id": "jRfSVyWieSzB",
        "colab": {
          "base_uri": "https://localhost:8080/"
        },
        "outputId": "ac9dd8ff-eeca-4b72-8689-2336a98555ec"
      },
      "outputs": [
        {
          "output_type": "execute_result",
          "data": {
            "text/plain": [
              "{'accuracy': 0.7976391231028668,\n",
              " 'mF1Score': 0.7471431008016374,\n",
              " 'f1Score': 0.6341463414634146,\n",
              " 'auc': 0.7453373211816822,\n",
              " 'precision': 0.6419753086419753,\n",
              " 'recall': 0.6265060240963856}"
            ]
          },
          "metadata": {},
          "execution_count": 9
        }
      ],
      "source": [
        "show_metrics('cka')"
      ]
    },
    {
      "cell_type": "markdown",
      "metadata": {
        "id": "mDn8U6aUdOlT"
      },
      "source": [
        "## CK_E"
      ]
    },
    {
      "cell_type": "code",
      "execution_count": null,
      "metadata": {
        "id": "iJrFlehxdO-y"
      },
      "outputs": [],
      "source": [
        "!python train_generic.py translated/ck_e_train.csv original/ck_dev.csv original/ck_test.csv  models/ck_e/"
      ]
    },
    {
      "cell_type": "code",
      "execution_count": 10,
      "metadata": {
        "id": "uQ3X9MvIeSLZ",
        "colab": {
          "base_uri": "https://localhost:8080/"
        },
        "outputId": "6b8e508f-69ab-4d78-f6d6-318f727b0234"
      },
      "outputs": [
        {
          "output_type": "execute_result",
          "data": {
            "text/plain": [
              "{'accuracy': 0.8293918918918919,\n",
              " 'mF1Score': 0.7806788128661192,\n",
              " 'f1Score': 0.6773162939297125,\n",
              " 'auc': 0.7711550427060354,\n",
              " 'precision': 0.7210884353741497,\n",
              " 'recall': 0.6385542168674698}"
            ]
          },
          "metadata": {},
          "execution_count": 10
        }
      ],
      "source": [
        "show_metrics('ck_e')"
      ]
    },
    {
      "cell_type": "markdown",
      "metadata": {
        "id": "L6ecz2UVdbki"
      },
      "source": [
        "##CK_K\n"
      ]
    },
    {
      "cell_type": "code",
      "execution_count": null,
      "metadata": {
        "id": "w_Q9tJNNdVEu"
      },
      "outputs": [],
      "source": [
        "!python train_generic.py translated/ck_k_train.csv original/ck_dev.csv original/ck_test.csv  models/ck_k/"
      ]
    },
    {
      "cell_type": "code",
      "execution_count": 11,
      "metadata": {
        "id": "_3Mgik4beQZG",
        "colab": {
          "base_uri": "https://localhost:8080/"
        },
        "outputId": "82d5b69b-c507-4821-f941-f151daaf9975"
      },
      "outputs": [
        {
          "output_type": "execute_result",
          "data": {
            "text/plain": [
              "{'accuracy': 0.8246205733558178,\n",
              " 'mF1Score': 0.7689910401246591,\n",
              " 'f1Score': 0.6556291390728476,\n",
              " 'auc': 0.754867244152253,\n",
              " 'precision': 0.7279411764705882,\n",
              " 'recall': 0.5963855421686747}"
            ]
          },
          "metadata": {},
          "execution_count": 11
        }
      ],
      "source": [
        "show_metrics('ck_k')"
      ]
    },
    {
      "cell_type": "markdown",
      "metadata": {
        "id": "Qp74868Ac6sj"
      },
      "source": [
        "## CK_E_K"
      ]
    },
    {
      "cell_type": "code",
      "execution_count": null,
      "metadata": {
        "id": "Tf9r9ZV_o2uQ"
      },
      "outputs": [],
      "source": [
        "!python train_generic.py translated/ck_e_k_train.csv  original/ck_dev.csv original/ck_test.csv  models/ck_e_k/"
      ]
    },
    {
      "cell_type": "code",
      "execution_count": 12,
      "metadata": {
        "id": "mhBYCEJieTVq",
        "colab": {
          "base_uri": "https://localhost:8080/"
        },
        "outputId": "6a0017b7-db1a-4cd8-d50d-e3c43491fec2"
      },
      "outputs": [
        {
          "output_type": "execute_result",
          "data": {
            "text/plain": [
              "{'accuracy': 0.8361486486486487,\n",
              " 'mF1Score': 0.7820216444793671,\n",
              " 'f1Score': 0.6734006734006734,\n",
              " 'auc': 0.7648198427512868,\n",
              " 'precision': 0.7633587786259542,\n",
              " 'recall': 0.6024096385542169}"
            ]
          },
          "metadata": {},
          "execution_count": 12
        }
      ],
      "source": [
        "show_metrics('ck_e_k')"
      ]
    },
    {
      "cell_type": "markdown",
      "metadata": {
        "id": "RXZO8ymieo_J"
      },
      "source": [
        "## CK Word Alignment Augmentation"
      ]
    },
    {
      "cell_type": "code",
      "execution_count": null,
      "metadata": {
        "id": "Kf1WldIoeoqx"
      },
      "outputs": [],
      "source": [
        "!python train_generic.py augmented/ckwk2e_train.csv  original/ck_dev.csv original/ck_test.csv  models/ckwk2e/"
      ]
    },
    {
      "cell_type": "code",
      "execution_count": null,
      "metadata": {
        "id": "2cj-cN9OewAs"
      },
      "outputs": [],
      "source": [
        "show_metrics('ckwk2e')"
      ]
    },
    {
      "cell_type": "code",
      "execution_count": null,
      "metadata": {
        "id": "oaV-Aqmtd6Yf"
      },
      "outputs": [],
      "source": [
        "!python train_generic.py augmented/ckwe2k_train.csv  original/ck_dev.csv original/ck_test.csv  models/ckwe2k/"
      ]
    },
    {
      "cell_type": "code",
      "execution_count": 16,
      "metadata": {
        "colab": {
          "base_uri": "https://localhost:8080/"
        },
        "id": "EDvOvaJLd_X2",
        "outputId": "d113352f-01bf-4b10-d269-a86515477eab"
      },
      "outputs": [
        {
          "output_type": "execute_result",
          "data": {
            "text/plain": [
              "{'accuracy': 0.8010118043844857,\n",
              " 'mF1Score': 0.7592416735480318,\n",
              " 'f1Score': 0.6589595375722543,\n",
              " 'auc': 0.7660901216105641,\n",
              " 'precision': 0.6333333333333333,\n",
              " 'recall': 0.6867469879518072}"
            ]
          },
          "metadata": {},
          "execution_count": 16
        }
      ],
      "source": [
        "show_metrics('ckwe2k')"
      ]
    },
    {
      "cell_type": "markdown",
      "source": [
        "## CK Translated Test Test  "
      ],
      "metadata": {
        "id": "BpI2vxmiZONa"
      }
    },
    {
      "cell_type": "code",
      "source": [
        "!cp -R models/ck_e models/translatedtest_ck_e\n",
        "!cp -R models/ck_k models/translatedtest_ck_k"
      ],
      "metadata": {
        "id": "frRHnggXb0ab"
      },
      "execution_count": null,
      "outputs": []
    },
    {
      "cell_type": "code",
      "source": [
        "!python train_generic.py translated/ck_k_train.csv  translated/k_dev.csv translated/k_test.csv  models/translatedtest_ck_k/"
      ],
      "metadata": {
        "id": "5aQfjhbHdYFN"
      },
      "execution_count": null,
      "outputs": []
    },
    {
      "cell_type": "code",
      "source": [
        "show_metrics('translatedtest_ck_k')"
      ],
      "metadata": {
        "colab": {
          "base_uri": "https://localhost:8080/"
        },
        "id": "v0FkmzdefQTX",
        "outputId": "0cbda8aa-b130-45ac-b4e2-fd2dd58b2a5d"
      },
      "execution_count": 17,
      "outputs": [
        {
          "output_type": "execute_result",
          "data": {
            "text/plain": [
              "{'accuracy': 0.806070826306914,\n",
              " 'mF1Score': 0.7657599791160742,\n",
              " 'f1Score': 0.6685878962536024,\n",
              " 'auc': 0.7732851781834599,\n",
              " 'precision': 0.6408839779005525,\n",
              " 'recall': 0.6987951807228916}"
            ]
          },
          "metadata": {},
          "execution_count": 17
        }
      ]
    },
    {
      "cell_type": "code",
      "source": [
        "!python train_generic.py translated/ck_e_train.csv  translated/e_dev.csv translated/e_test.csv  models/translatedtest_ck_e/"
      ],
      "metadata": {
        "id": "mUx8NfwaZRb8"
      },
      "execution_count": null,
      "outputs": []
    },
    {
      "cell_type": "code",
      "source": [
        "show_metrics('translatedtest_ck_e')"
      ],
      "metadata": {
        "id": "D4egtsaAlB1N",
        "outputId": "c968ea33-c552-4f30-8584-ec87c2496b7f",
        "colab": {
          "base_uri": "https://localhost:8080/"
        }
      },
      "execution_count": null,
      "outputs": [
        {
          "output_type": "execute_result",
          "data": {
            "text/plain": [
              "{'accuracy': 0.7672849915682968,\n",
              " 'mF1Score': 0.7313041765169426,\n",
              " 'f1Score': 0.6329787234042553,\n",
              " 'auc': 0.7518763578905787,\n",
              " 'precision': 0.5666666666666667,\n",
              " 'recall': 0.7168674698795181}"
            ]
          },
          "metadata": {},
          "execution_count": 25
        }
      ]
    },
    {
      "cell_type": "markdown",
      "source": [
        "CK Train -> K test "
      ],
      "metadata": {
        "id": "92DNbyamQnSH"
      }
    },
    {
      "cell_type": "code",
      "source": [
        "!cp -r models/ck models/ck_test_kannada "
      ],
      "metadata": {
        "id": "dKH7L0YTRMew"
      },
      "execution_count": null,
      "outputs": []
    },
    {
      "cell_type": "code",
      "source": [
        "!python test_generic.py original/ck_train.csv  translated/k_dev.csv translated/k_test.csv  models/ck_test_kannada/"
      ],
      "metadata": {
        "id": "jYm8SPgjQfA2"
      },
      "execution_count": null,
      "outputs": []
    },
    {
      "cell_type": "code",
      "source": [
        "show_metrics('ck_test_kannada')"
      ],
      "metadata": {
        "colab": {
          "base_uri": "https://localhost:8080/"
        },
        "id": "BuGzxsSKS53e",
        "outputId": "ec496fe8-c433-44ad-9ff2-d2acc0cd6672"
      },
      "execution_count": null,
      "outputs": [
        {
          "output_type": "execute_result",
          "data": {
            "text/plain": [
              "{'accuracy': 0.7689713322091062,\n",
              " 'mF1Score': 0.7062583838624884,\n",
              " 'f1Score': 0.5705329153605015,\n",
              " 'auc': 0.7014968539262437,\n",
              " 'precision': 0.5947712418300654,\n",
              " 'recall': 0.5481927710843374}"
            ]
          },
          "metadata": {},
          "execution_count": 12
        }
      ]
    },
    {
      "cell_type": "code",
      "source": [
        "!cp -r models/ck models/ck_test_english "
      ],
      "metadata": {
        "id": "Zx2hnfOSShOo"
      },
      "execution_count": null,
      "outputs": []
    },
    {
      "cell_type": "code",
      "source": [
        "!python test_generic.py original/ck_train.csv  translated/e_dev.csv translated/e_test.csv  models/ck_test_english/"
      ],
      "metadata": {
        "id": "Zw1DQY6nSf7P"
      },
      "execution_count": null,
      "outputs": []
    },
    {
      "cell_type": "markdown",
      "source": [],
      "metadata": {
        "id": "fniwdDOLC68y"
      }
    },
    {
      "cell_type": "code",
      "source": [
        "show_metrics('ck_test_english')"
      ],
      "metadata": {
        "colab": {
          "base_uri": "https://localhost:8080/"
        },
        "id": "YSz-Cj1uRKk6",
        "outputId": "6ffcfafc-e054-40a2-e7aa-8c4720cfeaf7"
      },
      "execution_count": null,
      "outputs": [
        {
          "output_type": "execute_result",
          "data": {
            "text/plain": [
              "{'accuracy': 0.7841483979763912,\n",
              " 'mF1Score': 0.728223196127295,\n",
              " 'f1Score': 0.6049382716049382,\n",
              " 'auc': 0.7249231116503485,\n",
              " 'precision': 0.620253164556962,\n",
              " 'recall': 0.5903614457831325}"
            ]
          },
          "metadata": {},
          "execution_count": 11
        }
      ]
    },
    {
      "cell_type": "code",
      "source": [
        "!cp -r models/ck_e_k models/ck_e_k_test_english"
      ],
      "metadata": {
        "id": "XFC2YJP0V3-d"
      },
      "execution_count": null,
      "outputs": []
    },
    {
      "cell_type": "code",
      "source": [
        "!python test_generic.py augmented/ck_e_k_train.csv  translated/e_dev.csv translated/e_test.csv  models/ck_e_k_test_english/"
      ],
      "metadata": {
        "id": "9s3marveWJ-w"
      },
      "execution_count": null,
      "outputs": []
    },
    {
      "cell_type": "code",
      "source": [
        "!cp -r models/ck_e_k models/ck_e_k_test_kannada"
      ],
      "metadata": {
        "id": "OPvItOj8W0_t"
      },
      "execution_count": null,
      "outputs": []
    },
    {
      "cell_type": "code",
      "source": [
        "!python test_generic.py augmented/ck_e_k_train.csv  translated/k_dev.csv translated/k_test.csv  models/ck_e_k_test_kannada/"
      ],
      "metadata": {
        "id": "Csus-CdsX7bq"
      },
      "execution_count": null,
      "outputs": []
    },
    {
      "cell_type": "code",
      "source": [
        "!cp -r models/ck_k models/ck_k_test_kannada"
      ],
      "metadata": {
        "id": "IghmqfKWZuBK"
      },
      "execution_count": null,
      "outputs": []
    },
    {
      "cell_type": "code",
      "source": [
        "!python test_generic.py augmented/ck_k_train.csv  translated/k_dev.csv translated/k_test.csv  models/ck_k_test_kannada/"
      ],
      "metadata": {
        "id": "wV82EgZFaADj"
      },
      "execution_count": null,
      "outputs": []
    },
    {
      "cell_type": "code",
      "source": [
        "!cp -r models/ck_e models/ck_e_test_english"
      ],
      "metadata": {
        "id": "kAfCBpuUbLSA"
      },
      "execution_count": null,
      "outputs": []
    },
    {
      "cell_type": "code",
      "source": [
        "!python test_generic.py augmented/ck_e_train.csv  translated/k_dev.csv translated/k_test.csv  models/ck_e_test_english/"
      ],
      "metadata": {
        "id": "SHD8M3wfbTiA"
      },
      "execution_count": null,
      "outputs": []
    },
    {
      "cell_type": "code",
      "source": [
        "!cp -r models/ck_e models/ck_e_test_english"
      ],
      "metadata": {
        "id": "3Nxg3hfedBSx"
      },
      "execution_count": null,
      "outputs": []
    }
  ],
  "metadata": {
    "accelerator": "GPU",
    "colab": {
      "provenance": []
    },
    "gpuClass": "standard",
    "kernelspec": {
      "display_name": "Python 3",
      "name": "python3"
    },
    "language_info": {
      "name": "python"
    }
  },
  "nbformat": 4,
  "nbformat_minor": 0
}