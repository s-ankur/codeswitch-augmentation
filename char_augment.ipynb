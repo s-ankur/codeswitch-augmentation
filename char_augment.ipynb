{
  "nbformat": 4,
  "nbformat_minor": 0,
  "metadata": {
    "colab": {
      "provenance": []
    },
    "kernelspec": {
      "name": "python3",
      "display_name": "Python 3"
    },
    "language_info": {
      "name": "python"
    },
    "accelerator": "GPU",
    "gpuClass": "standard"
  },
  "cells": [
    {
      "cell_type": "code",
      "execution_count": null,
      "metadata": {
        "colab": {
          "base_uri": "https://localhost:8080/"
        },
        "id": "t7oOSwi5nStW",
        "outputId": "a74e202b-ca3c-4d04-fea3-da8d428b2d06"
      },
      "outputs": [
        {
          "output_type": "stream",
          "name": "stdout",
          "text": [
            "Mounted at /content/drive\n"
          ]
        }
      ],
      "source": [
        "from google.colab import drive\n",
        "drive.mount('/content/drive')"
      ]
    },
    {
      "cell_type": "code",
      "source": [
        "cd /content/drive/MyDrive/CS769"
      ],
      "metadata": {
        "colab": {
          "base_uri": "https://localhost:8080/"
        },
        "id": "muAp8pkEoU1A",
        "outputId": "703094a7-6745-40ff-f848-06d81710ba5b"
      },
      "execution_count": null,
      "outputs": [
        {
          "output_type": "stream",
          "name": "stdout",
          "text": [
            "/content/drive/.shortcut-targets-by-id/1pyPDXXgFYu_gD-IDMCmfmchXQboVGhNs/CS769\n"
          ]
        }
      ]
    },
    {
      "cell_type": "code",
      "source": [
        "!pip install emoji transformers"
      ],
      "metadata": {
        "id": "5K-Qea2jBQD9",
        "colab": {
          "base_uri": "https://localhost:8080/"
        },
        "outputId": "c831475b-871d-4c42-ae68-5b938b606458"
      },
      "execution_count": null,
      "outputs": [
        {
          "output_type": "stream",
          "name": "stdout",
          "text": [
            "Looking in indexes: https://pypi.org/simple, https://us-python.pkg.dev/colab-wheels/public/simple/\n",
            "Collecting emoji\n",
            "  Downloading emoji-2.2.0.tar.gz (240 kB)\n",
            "\u001b[2K     \u001b[90m━━━━━━━━━━━━━━━━━━━━━━━━━━━━━━━━━━━━━━━\u001b[0m \u001b[32m240.9/240.9 kB\u001b[0m \u001b[31m8.7 MB/s\u001b[0m eta \u001b[36m0:00:00\u001b[0m\n",
            "\u001b[?25h  Preparing metadata (setup.py) ... \u001b[?25l\u001b[?25hdone\n",
            "Collecting transformers\n",
            "  Downloading transformers-4.28.1-py3-none-any.whl (7.0 MB)\n",
            "\u001b[2K     \u001b[90m━━━━━━━━━━━━━━━━━━━━━━━━━━━━━━━━━━━━━━━━\u001b[0m \u001b[32m7.0/7.0 MB\u001b[0m \u001b[31m81.2 MB/s\u001b[0m eta \u001b[36m0:00:00\u001b[0m\n",
            "\u001b[?25hRequirement already satisfied: pyyaml>=5.1 in /usr/local/lib/python3.10/dist-packages (from transformers) (6.0)\n",
            "Requirement already satisfied: requests in /usr/local/lib/python3.10/dist-packages (from transformers) (2.27.1)\n",
            "Collecting huggingface-hub<1.0,>=0.11.0\n",
            "  Downloading huggingface_hub-0.14.1-py3-none-any.whl (224 kB)\n",
            "\u001b[2K     \u001b[90m━━━━━━━━━━━━━━━━━━━━━━━━━━━━━━━━━━━━━━\u001b[0m \u001b[32m224.5/224.5 kB\u001b[0m \u001b[31m28.2 MB/s\u001b[0m eta \u001b[36m0:00:00\u001b[0m\n",
            "\u001b[?25hRequirement already satisfied: tqdm>=4.27 in /usr/local/lib/python3.10/dist-packages (from transformers) (4.65.0)\n",
            "Requirement already satisfied: numpy>=1.17 in /usr/local/lib/python3.10/dist-packages (from transformers) (1.22.4)\n",
            "Requirement already satisfied: regex!=2019.12.17 in /usr/local/lib/python3.10/dist-packages (from transformers) (2022.10.31)\n",
            "Requirement already satisfied: packaging>=20.0 in /usr/local/lib/python3.10/dist-packages (from transformers) (23.1)\n",
            "Collecting tokenizers!=0.11.3,<0.14,>=0.11.1\n",
            "  Downloading tokenizers-0.13.3-cp310-cp310-manylinux_2_17_x86_64.manylinux2014_x86_64.whl (7.8 MB)\n",
            "\u001b[2K     \u001b[90m━━━━━━━━━━━━━━━━━━━━━━━━━━━━━━━━━━━━━━━━\u001b[0m \u001b[32m7.8/7.8 MB\u001b[0m \u001b[31m85.4 MB/s\u001b[0m eta \u001b[36m0:00:00\u001b[0m\n",
            "\u001b[?25hRequirement already satisfied: filelock in /usr/local/lib/python3.10/dist-packages (from transformers) (3.12.0)\n",
            "Requirement already satisfied: fsspec in /usr/local/lib/python3.10/dist-packages (from huggingface-hub<1.0,>=0.11.0->transformers) (2023.4.0)\n",
            "Requirement already satisfied: typing-extensions>=3.7.4.3 in /usr/local/lib/python3.10/dist-packages (from huggingface-hub<1.0,>=0.11.0->transformers) (4.5.0)\n",
            "Requirement already satisfied: urllib3<1.27,>=1.21.1 in /usr/local/lib/python3.10/dist-packages (from requests->transformers) (1.26.15)\n",
            "Requirement already satisfied: idna<4,>=2.5 in /usr/local/lib/python3.10/dist-packages (from requests->transformers) (3.4)\n",
            "Requirement already satisfied: charset-normalizer~=2.0.0 in /usr/local/lib/python3.10/dist-packages (from requests->transformers) (2.0.12)\n",
            "Requirement already satisfied: certifi>=2017.4.17 in /usr/local/lib/python3.10/dist-packages (from requests->transformers) (2022.12.7)\n",
            "Building wheels for collected packages: emoji\n",
            "  Building wheel for emoji (setup.py) ... \u001b[?25l\u001b[?25hdone\n",
            "  Created wheel for emoji: filename=emoji-2.2.0-py3-none-any.whl size=234926 sha256=b19ee79af61ed4c2a3246923130522a172d438dfdcf5ccc8b03767b1ec1c7e24\n",
            "  Stored in directory: /root/.cache/pip/wheels/02/3d/88/51a592b9ad17e7899126563698b4e3961983ebe85747228ba6\n",
            "Successfully built emoji\n",
            "Installing collected packages: tokenizers, emoji, huggingface-hub, transformers\n",
            "Successfully installed emoji-2.2.0 huggingface-hub-0.14.1 tokenizers-0.13.3 transformers-4.28.1\n"
          ]
        }
      ]
    },
    {
      "cell_type": "code",
      "source": [
        "import pandas as pd\n",
        "import emoji\n",
        "import string"
      ],
      "metadata": {
        "id": "9TFIUsnl_5M2"
      },
      "execution_count": null,
      "outputs": []
    },
    {
      "cell_type": "code",
      "source": [
        "df_ck_train =  pd.read_csv(\"original/ck_train.csv\", encoding='utf-8')\n",
        "df_ck_test =  pd.read_csv(\"original/ck_test.csv\", encoding='utf-8')\n",
        "df_ck_dev =  pd.read_csv(\"original/ck_dev.csv\", encoding='utf-8')\n",
        "df_k_train = pd.read_csv(\"translated/k_train.csv\", encoding='utf-8')\n",
        "df_e_train = pd.read_csv(\"translated/e_train.csv\", encoding='utf-8')"
      ],
      "metadata": {
        "id": "Tp_42kj2DGkE"
      },
      "execution_count": null,
      "outputs": []
    },
    {
      "cell_type": "code",
      "source": [
        "concatenated = df_ck_train['text'].str.cat(sep=' ')\n",
        "characters_no_emoji = {c for c in set(concatenated) if not emoji.is_emoji(c)}\n",
        "vocabulary = list(characters_no_emoji)\n",
        "print(len(vocabulary))"
      ],
      "metadata": {
        "colab": {
          "base_uri": "https://localhost:8080/"
        },
        "id": "3toyvVZOoXU2",
        "outputId": "59f7d164-edbf-4a44-b20f-e08ecba7dba2"
      },
      "execution_count": null,
      "outputs": [
        {
          "output_type": "stream",
          "name": "stdout",
          "text": [
            "225\n"
          ]
        }
      ]
    },
    {
      "cell_type": "code",
      "source": [
        "clean_vocabulary = set(vocabulary) - set(string.punctuation) - set(string.whitespace) - {'\\xa0','\\u200b','\\u200c','\\u200d','’','“','”','₹','℅'}"
      ],
      "metadata": {
        "id": "bfhh_nvpFSQi"
      },
      "execution_count": null,
      "outputs": []
    },
    {
      "cell_type": "code",
      "source": [
        "vocabulary=list(clean_vocabulary)"
      ],
      "metadata": {
        "id": "_asCkfFsFUxh"
      },
      "execution_count": null,
      "outputs": []
    },
    {
      "cell_type": "code",
      "source": [
        "## Method to swap characters\n",
        "import random\n",
        "import string\n",
        "import emoji\n",
        "\n",
        "import random\n",
        "import string\n",
        "import emoji\n",
        "\n",
        "def augment_sentence_swapping(sentence, p=0.5):\n",
        "    # Split sentence into words and process each word separately\n",
        "    words = sentence.split()\n",
        "    for i, word in enumerate(words):\n",
        "        # Randomly decide whether to swap one adjacent character\n",
        "        if random.random() < p:\n",
        "            # Check if the word has at least two non-space/non-emoji characters\n",
        "            chars = [c for c in word if c not in string.whitespace and not emoji.is_emoji(c)]\n",
        "            if len(chars) >= 2:\n",
        "                # Choose a random non-space/non-emoji character position to swap\n",
        "                pos = random.randint(0, len(chars)-2)\n",
        "                # Swap the chosen character with the next character\n",
        "                new_word = ''\n",
        "                j = 0\n",
        "                while j < len(word):\n",
        "                    if word[j] not in string.whitespace and not emoji.is_emoji(word[j]):\n",
        "                        if j == pos:\n",
        "                            new_word += word[j+1] + word[j]\n",
        "                            j += 2\n",
        "                        elif j == pos + 1:\n",
        "                            j += 1\n",
        "                        else:\n",
        "                            new_word += word[j]\n",
        "                            j += 1\n",
        "                    else:\n",
        "                        new_word += word[j]\n",
        "                        j += 1\n",
        "                words[i] = new_word\n",
        "    # Join the processed words back into a sentence\n",
        "    augmented_sentence = ' '.join(words)\n",
        "    return augmented_sentence\n",
        "\n",
        "def augment_sentence_substitute(sentence, char_list, p=0.5):\n",
        "    # Split sentence into words and process each word separately\n",
        "    words = sentence.split()\n",
        "    for i, word in enumerate(words):\n",
        "        # Randomly decide whether to substitute a character\n",
        "        if random.random() < p:\n",
        "            # Check if the word has at least one non-space/non-emoji character\n",
        "            chars = [c for c in word if c not in string.whitespace and not emoji.is_emoji(c)]\n",
        "            if len(chars) >= 1:\n",
        "                # Choose a random non-space/non-emoji character position to substitute\n",
        "                pos = random.randint(0, len(chars)-1)\n",
        "                # Choose a random character from the given list to substitute with\n",
        "                new_char = random.choice(char_list)\n",
        "                # Substitute the chosen character with the new character\n",
        "                new_word = ''\n",
        "                j = 0\n",
        "                while j < len(word):\n",
        "                    if word[j] not in string.whitespace and not emoji.is_emoji(word[j]):\n",
        "                        if j == pos:\n",
        "                            new_word += new_char\n",
        "                            j += 1\n",
        "                        else:\n",
        "                            new_word += word[j]\n",
        "                            j += 1\n",
        "                    else:\n",
        "                        new_word += word[j]\n",
        "                        j += 1\n",
        "                words[i] = new_word\n",
        "    # Join the processed words back into a sentence\n",
        "    augmented_sentence = ' '.join(words)\n",
        "    return augmented_sentence\n",
        "\n",
        "\n",
        "def augment_sentence_deleteChar(sentence, p=0.5):\n",
        "    # Split sentence into words and process each word separately\n",
        "    words = sentence.split()\n",
        "    for i, word in enumerate(words):\n",
        "        # Randomly decide whether to delete a character\n",
        "        if random.random() < p:\n",
        "            # Check if the word has at least two characters\n",
        "            if len(word) >= 2:\n",
        "                # Choose a random character position to delete\n",
        "                pos = random.randint(0, len(word)-1)\n",
        "                # Delete the chosen character\n",
        "                new_word = word[:pos] + word[pos+1:]\n",
        "                words[i] = new_word\n",
        "    # Join the processed words back into a sentence\n",
        "    augmented_sentence = ' '.join(words)\n",
        "    return augmented_sentence\n",
        "\n",
        "\n",
        "def augment_sentence_insert(sentence, char_list, p=0.5):\n",
        "    # Split sentence into words and process each word separately\n",
        "    words = sentence.split()\n",
        "    for i, word in enumerate(words):\n",
        "        # Randomly decide whether to insert a character\n",
        "        if random.random() < p:\n",
        "            # Choose a random character from the given list\n",
        "            char = random.choice(char_list)\n",
        "            # Choose a random position to insert the character\n",
        "            pos = random.randint(0, len(word))\n",
        "            # Insert the chosen character at the chosen position\n",
        "            new_word = word[:pos] + char + word[pos:]\n",
        "            words[i] = new_word\n",
        "    # Join the processed words back into a sentence\n",
        "    augmented_sentence = ' '.join(words)\n",
        "    return augmented_sentence\n",
        "\n",
        "def augment_sentence(sentence, char_list, p=0.5):\n",
        "    # Define the four operations as lambda functions\n",
        "    insert_op = lambda word: augment_sentence_insert(word, char_list, p)\n",
        "    delete_op = lambda word: augment_sentence_deleteChar(word)\n",
        "    substitute_op = lambda word: augment_sentence_substitute(word, char_list, p)\n",
        "    swap_op = lambda word: augment_sentence_swapping(word)\n",
        "    # Define a list of the four operations\n",
        "    ops = [insert_op, delete_op, substitute_op, swap_op]\n",
        "    # Split sentence into words and process each word separately\n",
        "    words = sentence.split()\n",
        "    for i, word in enumerate(words):\n",
        "        # Choose a random operation and apply it to the word\n",
        "        random_op = random.choice(ops)\n",
        "        words[i] = random_op(word)\n",
        "    # Join the processed words back into a sentence\n",
        "    augmented_sentence = ' '.join(words)\n",
        "    return augmented_sentence\n",
        "\n",
        "def generate_augmented_sentences(row):\n",
        "    sentences = [row['text']]\n",
        "    labels = [row['label']]\n",
        "    for i in range(3):\n",
        "        sentences.append(augment_sentence(row['text'], vocabulary))\n",
        "        labels.append(row['label'])\n",
        "    return pd.concat([pd.Series(sentences), pd.Series(labels)], axis=1)"
      ],
      "metadata": {
        "id": "8SeEWzOE82l1"
      },
      "execution_count": null,
      "outputs": []
    },
    {
      "cell_type": "code",
      "source": [
        "augment_sentence_insert(\"Hello\", vocabulary)"
      ],
      "metadata": {
        "colab": {
          "base_uri": "https://localhost:8080/",
          "height": 35
        },
        "id": "oXJou6iImE49",
        "outputId": "1c734c05-5e05-4a26-9c2f-79da5ead04c8"
      },
      "execution_count": null,
      "outputs": [
        {
          "output_type": "execute_result",
          "data": {
            "text/plain": [
              "'Heಢllo'"
            ],
            "application/vnd.google.colaboratory.intrinsic+json": {
              "type": "string"
            }
          },
          "metadata": {},
          "execution_count": 13
        }
      ]
    },
    {
      "cell_type": "code",
      "source": [
        "augmented_data = []\n",
        "for i, row in df_ck_train.iterrows():\n",
        "  augmented_data.append({'text': row['text'], 'label': row['label']})\n",
        "  for _ in range(3):\n",
        "    augmented_data.append({'text': augment_sentence(row['text'], vocabulary), 'label': row['label']})\n",
        "augmented_df = pd.DataFrame(augmented_data)"
      ],
      "metadata": {
        "id": "p1DOrGZy9OLE"
      },
      "execution_count": null,
      "outputs": []
    },
    {
      "cell_type": "code",
      "source": [
        "rm augmented/cka_train.csv"
      ],
      "metadata": {
        "id": "lEltsEbCrQM7"
      },
      "execution_count": null,
      "outputs": []
    },
    {
      "cell_type": "code",
      "source": [
        "augmented_df.to_csv('augmented/cka_train.csv',index=False)"
      ],
      "metadata": {
        "id": "7Uh0kBZcX78J"
      },
      "execution_count": null,
      "outputs": []
    }
  ]
}